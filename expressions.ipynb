{
 "cells": [
  {
   "cell_type": "markdown",
   "metadata": {},
   "source": [
    "# Mastering Polars queries with contexts and more complex expressions"
   ]
  },
  {
   "cell_type": "code",
   "execution_count": 1,
   "metadata": {},
   "outputs": [],
   "source": [
    "import polars as pl\n",
    "import numpy as np"
   ]
  },
  {
   "cell_type": "code",
   "execution_count": 2,
   "metadata": {},
   "outputs": [],
   "source": [
    "df = pl.scan_csv('hotels-europe_price.csv')"
   ]
  },
  {
   "cell_type": "markdown",
   "metadata": {},
   "source": [
    "## Some basic Dataframe inspection"
   ]
  },
  {
   "cell_type": "code",
   "execution_count": 3,
   "metadata": {},
   "outputs": [
    {
     "data": {
      "text/plain": [
       "['hotel_id',\n",
       " 'price',\n",
       " 'offer',\n",
       " 'offer_cat',\n",
       " 'year',\n",
       " 'month',\n",
       " 'weekend',\n",
       " 'holiday',\n",
       " 'nnights',\n",
       " 'scarce_room']"
      ]
     },
     "execution_count": 3,
     "metadata": {},
     "output_type": "execute_result"
    }
   ],
   "source": [
    "df.columns"
   ]
  },
  {
   "cell_type": "code",
   "execution_count": 4,
   "metadata": {},
   "outputs": [
    {
     "data": {
      "text/html": [
       "<div><style>\n",
       ".dataframe > thead > tr > th,\n",
       ".dataframe > tbody > tr > td {\n",
       "  text-align: right;\n",
       "  white-space: pre-wrap;\n",
       "}\n",
       "</style>\n",
       "<small>shape: (5, 10)</small><table border=\"1\" class=\"dataframe\"><thead><tr><th>hotel_id</th><th>price</th><th>offer</th><th>offer_cat</th><th>year</th><th>month</th><th>weekend</th><th>holiday</th><th>nnights</th><th>scarce_room</th></tr><tr><td>i64</td><td>i64</td><td>i64</td><td>str</td><td>i64</td><td>i64</td><td>i64</td><td>i64</td><td>i64</td><td>i64</td></tr></thead><tbody><tr><td>1</td><td>172</td><td>0</td><td>&quot;0% no offer&quot;</td><td>2017</td><td>11</td><td>1</td><td>0</td><td>1</td><td>0</td></tr><tr><td>1</td><td>122</td><td>1</td><td>&quot;15-50% offer&quot;</td><td>2018</td><td>1</td><td>1</td><td>0</td><td>1</td><td>0</td></tr><tr><td>1</td><td>122</td><td>1</td><td>&quot;15-50% offer&quot;</td><td>2017</td><td>12</td><td>0</td><td>1</td><td>1</td><td>0</td></tr><tr><td>1</td><td>552</td><td>1</td><td>&quot;1-15% offer&quot;</td><td>2017</td><td>12</td><td>0</td><td>1</td><td>4</td><td>0</td></tr><tr><td>1</td><td>122</td><td>1</td><td>&quot;15-50% offer&quot;</td><td>2018</td><td>2</td><td>1</td><td>0</td><td>1</td><td>0</td></tr></tbody></table></div>"
      ],
      "text/plain": [
       "shape: (5, 10)\n",
       "┌──────────┬───────┬───────┬──────────────┬───┬─────────┬─────────┬─────────┬─────────────┐\n",
       "│ hotel_id ┆ price ┆ offer ┆ offer_cat    ┆ … ┆ weekend ┆ holiday ┆ nnights ┆ scarce_room │\n",
       "│ ---      ┆ ---   ┆ ---   ┆ ---          ┆   ┆ ---     ┆ ---     ┆ ---     ┆ ---         │\n",
       "│ i64      ┆ i64   ┆ i64   ┆ str          ┆   ┆ i64     ┆ i64     ┆ i64     ┆ i64         │\n",
       "╞══════════╪═══════╪═══════╪══════════════╪═══╪═════════╪═════════╪═════════╪═════════════╡\n",
       "│ 1        ┆ 172   ┆ 0     ┆ 0% no offer  ┆ … ┆ 1       ┆ 0       ┆ 1       ┆ 0           │\n",
       "│ 1        ┆ 122   ┆ 1     ┆ 15-50% offer ┆ … ┆ 1       ┆ 0       ┆ 1       ┆ 0           │\n",
       "│ 1        ┆ 122   ┆ 1     ┆ 15-50% offer ┆ … ┆ 0       ┆ 1       ┆ 1       ┆ 0           │\n",
       "│ 1        ┆ 552   ┆ 1     ┆ 1-15% offer  ┆ … ┆ 0       ┆ 1       ┆ 4       ┆ 0           │\n",
       "│ 1        ┆ 122   ┆ 1     ┆ 15-50% offer ┆ … ┆ 1       ┆ 0       ┆ 1       ┆ 0           │\n",
       "└──────────┴───────┴───────┴──────────────┴───┴─────────┴─────────┴─────────┴─────────────┘"
      ]
     },
     "execution_count": 4,
     "metadata": {},
     "output_type": "execute_result"
    }
   ],
   "source": [
    "df.head().collect()"
   ]
  },
  {
   "cell_type": "code",
   "execution_count": 5,
   "metadata": {},
   "outputs": [
    {
     "data": {
      "text/html": [
       "<div><style>\n",
       ".dataframe > thead > tr > th,\n",
       ".dataframe > tbody > tr > td {\n",
       "  text-align: right;\n",
       "  white-space: pre-wrap;\n",
       "}\n",
       "</style>\n",
       "<small>shape: (9, 11)</small><table border=\"1\" class=\"dataframe\"><thead><tr><th>describe</th><th>hotel_id</th><th>price</th><th>offer</th><th>offer_cat</th><th>year</th><th>month</th><th>weekend</th><th>holiday</th><th>nnights</th><th>scarce_room</th></tr><tr><td>str</td><td>f64</td><td>f64</td><td>f64</td><td>str</td><td>f64</td><td>f64</td><td>f64</td><td>f64</td><td>f64</td><td>f64</td></tr></thead><tbody><tr><td>&quot;count&quot;</td><td>148021.0</td><td>148021.0</td><td>148021.0</td><td>&quot;148021&quot;</td><td>148021.0</td><td>148021.0</td><td>148021.0</td><td>148021.0</td><td>148021.0</td><td>148021.0</td></tr><tr><td>&quot;null_count&quot;</td><td>0.0</td><td>0.0</td><td>0.0</td><td>&quot;0&quot;</td><td>0.0</td><td>0.0</td><td>0.0</td><td>0.0</td><td>0.0</td><td>0.0</td></tr><tr><td>&quot;mean&quot;</td><td>10752.712777</td><td>179.009674</td><td>0.583667</td><td>null</td><td>2017.579553</td><td>6.862776</td><td>0.665156</td><td>0.218489</td><td>1.330804</td><td>0.527959</td></tr><tr><td>&quot;std&quot;</td><td>6545.319965</td><td>256.056927</td><td>0.492952</td><td>null</td><td>0.493632</td><td>4.184376</td><td>0.471938</td><td>0.413223</td><td>0.939674</td><td>0.499219</td></tr><tr><td>&quot;min&quot;</td><td>1.0</td><td>5.0</td><td>0.0</td><td>&quot;0% no offer&quot;</td><td>2017.0</td><td>1.0</td><td>0.0</td><td>0.0</td><td>1.0</td><td>0.0</td></tr><tr><td>&quot;25%&quot;</td><td>5227.0</td><td>74.0</td><td>0.0</td><td>null</td><td>2017.0</td><td>3.0</td><td>0.0</td><td>0.0</td><td>1.0</td><td>0.0</td></tr><tr><td>&quot;50%&quot;</td><td>10403.0</td><td>113.0</td><td>1.0</td><td>null</td><td>2018.0</td><td>6.0</td><td>1.0</td><td>0.0</td><td>1.0</td><td>1.0</td></tr><tr><td>&quot;75%&quot;</td><td>15132.0</td><td>192.0</td><td>1.0</td><td>null</td><td>2018.0</td><td>11.0</td><td>1.0</td><td>0.0</td><td>1.0</td><td>1.0</td></tr><tr><td>&quot;max&quot;</td><td>22902.0</td><td>39996.0</td><td>1.0</td><td>&quot;75%+ offer &quot;</td><td>2018.0</td><td>12.0</td><td>1.0</td><td>1.0</td><td>4.0</td><td>1.0</td></tr></tbody></table></div>"
      ],
      "text/plain": [
       "shape: (9, 11)\n",
       "┌────────────┬────────────┬────────────┬──────────┬───┬──────────┬──────────┬──────────┬───────────┐\n",
       "│ describe   ┆ hotel_id   ┆ price      ┆ offer    ┆ … ┆ weekend  ┆ holiday  ┆ nnights  ┆ scarce_ro │\n",
       "│ ---        ┆ ---        ┆ ---        ┆ ---      ┆   ┆ ---      ┆ ---      ┆ ---      ┆ om        │\n",
       "│ str        ┆ f64        ┆ f64        ┆ f64      ┆   ┆ f64      ┆ f64      ┆ f64      ┆ ---       │\n",
       "│            ┆            ┆            ┆          ┆   ┆          ┆          ┆          ┆ f64       │\n",
       "╞════════════╪════════════╪════════════╪══════════╪═══╪══════════╪══════════╪══════════╪═══════════╡\n",
       "│ count      ┆ 148021.0   ┆ 148021.0   ┆ 148021.0 ┆ … ┆ 148021.0 ┆ 148021.0 ┆ 148021.0 ┆ 148021.0  │\n",
       "│ null_count ┆ 0.0        ┆ 0.0        ┆ 0.0      ┆ … ┆ 0.0      ┆ 0.0      ┆ 0.0      ┆ 0.0       │\n",
       "│ mean       ┆ 10752.7127 ┆ 179.009674 ┆ 0.583667 ┆ … ┆ 0.665156 ┆ 0.218489 ┆ 1.330804 ┆ 0.527959  │\n",
       "│            ┆ 77         ┆            ┆          ┆   ┆          ┆          ┆          ┆           │\n",
       "│ std        ┆ 6545.31996 ┆ 256.056927 ┆ 0.492952 ┆ … ┆ 0.471938 ┆ 0.413223 ┆ 0.939674 ┆ 0.499219  │\n",
       "│            ┆ 5          ┆            ┆          ┆   ┆          ┆          ┆          ┆           │\n",
       "│ min        ┆ 1.0        ┆ 5.0        ┆ 0.0      ┆ … ┆ 0.0      ┆ 0.0      ┆ 1.0      ┆ 0.0       │\n",
       "│ 25%        ┆ 5227.0     ┆ 74.0       ┆ 0.0      ┆ … ┆ 0.0      ┆ 0.0      ┆ 1.0      ┆ 0.0       │\n",
       "│ 50%        ┆ 10403.0    ┆ 113.0      ┆ 1.0      ┆ … ┆ 1.0      ┆ 0.0      ┆ 1.0      ┆ 1.0       │\n",
       "│ 75%        ┆ 15132.0    ┆ 192.0      ┆ 1.0      ┆ … ┆ 1.0      ┆ 0.0      ┆ 1.0      ┆ 1.0       │\n",
       "│ max        ┆ 22902.0    ┆ 39996.0    ┆ 1.0      ┆ … ┆ 1.0      ┆ 1.0      ┆ 4.0      ┆ 1.0       │\n",
       "└────────────┴────────────┴────────────┴──────────┴───┴──────────┴──────────┴──────────┴───────────┘"
      ]
     },
     "execution_count": 5,
     "metadata": {},
     "output_type": "execute_result"
    }
   ],
   "source": [
    "df.collect().describe()"
   ]
  },
  {
   "cell_type": "markdown",
   "metadata": {},
   "source": [
    "## Part 1: Defining the context"
   ]
  },
  {
   "cell_type": "code",
   "execution_count": 6,
   "metadata": {},
   "outputs": [
    {
     "data": {
      "text/html": [
       "<div><style>\n",
       ".dataframe > thead > tr > th,\n",
       ".dataframe > tbody > tr > td {\n",
       "  text-align: right;\n",
       "  white-space: pre-wrap;\n",
       "}\n",
       "</style>\n",
       "<small>shape: (148_021, 1)</small><table border=\"1\" class=\"dataframe\"><thead><tr><th>hotel_id</th></tr><tr><td>i64</td></tr></thead><tbody><tr><td>1</td></tr><tr><td>1</td></tr><tr><td>1</td></tr><tr><td>1</td></tr><tr><td>1</td></tr><tr><td>1</td></tr><tr><td>2</td></tr><tr><td>2</td></tr><tr><td>2</td></tr><tr><td>3</td></tr><tr><td>3</td></tr><tr><td>3</td></tr><tr><td>&hellip;</td></tr><tr><td>22900</td></tr><tr><td>22901</td></tr><tr><td>22901</td></tr><tr><td>22901</td></tr><tr><td>22901</td></tr><tr><td>22902</td></tr><tr><td>22902</td></tr><tr><td>22902</td></tr><tr><td>22902</td></tr><tr><td>22902</td></tr><tr><td>22902</td></tr><tr><td>22902</td></tr></tbody></table></div>"
      ],
      "text/plain": [
       "shape: (148_021, 1)\n",
       "┌──────────┐\n",
       "│ hotel_id │\n",
       "│ ---      │\n",
       "│ i64      │\n",
       "╞══════════╡\n",
       "│ 1        │\n",
       "│ 1        │\n",
       "│ 1        │\n",
       "│ 1        │\n",
       "│ …        │\n",
       "│ 22902    │\n",
       "│ 22902    │\n",
       "│ 22902    │\n",
       "│ 22902    │\n",
       "└──────────┘"
      ]
     },
     "execution_count": 6,
     "metadata": {},
     "output_type": "execute_result"
    }
   ],
   "source": [
    "df.select([\n",
    "    pl.col('hotel_id')\n",
    "]).collect()"
   ]
  },
  {
   "cell_type": "code",
   "execution_count": 7,
   "metadata": {},
   "outputs": [
    {
     "data": {
      "text/html": [
       "<div><style>\n",
       ".dataframe > thead > tr > th,\n",
       ".dataframe > tbody > tr > td {\n",
       "  text-align: right;\n",
       "  white-space: pre-wrap;\n",
       "}\n",
       "</style>\n",
       "<small>shape: (148_021, 4)</small><table border=\"1\" class=\"dataframe\"><thead><tr><th>hotel_id</th><th>year</th><th>price</th><th>offer_cat</th></tr><tr><td>i64</td><td>i64</td><td>i64</td><td>str</td></tr></thead><tbody><tr><td>1</td><td>2017</td><td>172</td><td>&quot;0% no offer&quot;</td></tr><tr><td>1</td><td>2018</td><td>122</td><td>&quot;15-50% offer&quot;</td></tr><tr><td>1</td><td>2017</td><td>122</td><td>&quot;15-50% offer&quot;</td></tr><tr><td>1</td><td>2017</td><td>552</td><td>&quot;1-15% offer&quot;</td></tr><tr><td>1</td><td>2018</td><td>122</td><td>&quot;15-50% offer&quot;</td></tr><tr><td>1</td><td>2017</td><td>114</td><td>&quot;15-50% offer&quot;</td></tr><tr><td>2</td><td>2017</td><td>119</td><td>&quot;0% no offer&quot;</td></tr><tr><td>2</td><td>2017</td><td>119</td><td>&quot;0% no offer&quot;</td></tr><tr><td>2</td><td>2017</td><td>547</td><td>&quot;0% no offer&quot;</td></tr><tr><td>3</td><td>2017</td><td>118</td><td>&quot;15-50% offer&quot;</td></tr><tr><td>3</td><td>2017</td><td>217</td><td>&quot;0% no offer&quot;</td></tr><tr><td>3</td><td>2018</td><td>114</td><td>&quot;15-50% offer&quot;</td></tr><tr><td>&hellip;</td><td>&hellip;</td><td>&hellip;</td><td>&hellip;</td></tr><tr><td>22900</td><td>2017</td><td>509</td><td>&quot;0% no offer&quot;</td></tr><tr><td>22901</td><td>2017</td><td>379</td><td>&quot;0% no offer&quot;</td></tr><tr><td>22901</td><td>2017</td><td>94</td><td>&quot;0% no offer&quot;</td></tr><tr><td>22901</td><td>2017</td><td>94</td><td>&quot;0% no offer&quot;</td></tr><tr><td>22901</td><td>2017</td><td>94</td><td>&quot;0% no offer&quot;</td></tr><tr><td>22902</td><td>2018</td><td>149</td><td>&quot;15-50% offer&quot;</td></tr><tr><td>22902</td><td>2018</td><td>109</td><td>&quot;15-50% offer&quot;</td></tr><tr><td>22902</td><td>2017</td><td>119</td><td>&quot;15-50% offer&quot;</td></tr><tr><td>22902</td><td>2018</td><td>109</td><td>&quot;15-50% offer&quot;</td></tr><tr><td>22902</td><td>2018</td><td>109</td><td>&quot;15-50% offer&quot;</td></tr><tr><td>22902</td><td>2017</td><td>446</td><td>&quot;15-50% offer&quot;</td></tr><tr><td>22902</td><td>2017</td><td>117</td><td>&quot;15-50% offer&quot;</td></tr></tbody></table></div>"
      ],
      "text/plain": [
       "shape: (148_021, 4)\n",
       "┌──────────┬──────┬───────┬──────────────┐\n",
       "│ hotel_id ┆ year ┆ price ┆ offer_cat    │\n",
       "│ ---      ┆ ---  ┆ ---   ┆ ---          │\n",
       "│ i64      ┆ i64  ┆ i64   ┆ str          │\n",
       "╞══════════╪══════╪═══════╪══════════════╡\n",
       "│ 1        ┆ 2017 ┆ 172   ┆ 0% no offer  │\n",
       "│ 1        ┆ 2018 ┆ 122   ┆ 15-50% offer │\n",
       "│ 1        ┆ 2017 ┆ 122   ┆ 15-50% offer │\n",
       "│ 1        ┆ 2017 ┆ 552   ┆ 1-15% offer  │\n",
       "│ …        ┆ …    ┆ …     ┆ …            │\n",
       "│ 22902    ┆ 2018 ┆ 109   ┆ 15-50% offer │\n",
       "│ 22902    ┆ 2018 ┆ 109   ┆ 15-50% offer │\n",
       "│ 22902    ┆ 2017 ┆ 446   ┆ 15-50% offer │\n",
       "│ 22902    ┆ 2017 ┆ 117   ┆ 15-50% offer │\n",
       "└──────────┴──────┴───────┴──────────────┘"
      ]
     },
     "execution_count": 7,
     "metadata": {},
     "output_type": "execute_result"
    }
   ],
   "source": [
    "df.select([\n",
    "    pl.col('hotel_id'),\n",
    "    pl.col('year'),\n",
    "    pl.col('price'),\n",
    "    pl.col('offer_cat')\n",
    "]).collect()"
   ]
  },
  {
   "cell_type": "markdown",
   "metadata": {},
   "source": [
    "### Filter"
   ]
  },
  {
   "cell_type": "code",
   "execution_count": 8,
   "metadata": {},
   "outputs": [
    {
     "data": {
      "text/html": [
       "<div><style>\n",
       ".dataframe > thead > tr > th,\n",
       ".dataframe > tbody > tr > td {\n",
       "  text-align: right;\n",
       "  white-space: pre-wrap;\n",
       "}\n",
       "</style>\n",
       "<small>shape: (62_235, 10)</small><table border=\"1\" class=\"dataframe\"><thead><tr><th>hotel_id</th><th>price</th><th>offer</th><th>offer_cat</th><th>year</th><th>month</th><th>weekend</th><th>holiday</th><th>nnights</th><th>scarce_room</th></tr><tr><td>i64</td><td>i64</td><td>i64</td><td>str</td><td>i64</td><td>i64</td><td>i64</td><td>i64</td><td>i64</td><td>i64</td></tr></thead><tbody><tr><td>1</td><td>172</td><td>0</td><td>&quot;0% no offer&quot;</td><td>2017</td><td>11</td><td>1</td><td>0</td><td>1</td><td>0</td></tr><tr><td>1</td><td>122</td><td>1</td><td>&quot;15-50% offer&quot;</td><td>2017</td><td>12</td><td>0</td><td>1</td><td>1</td><td>0</td></tr><tr><td>1</td><td>552</td><td>1</td><td>&quot;1-15% offer&quot;</td><td>2017</td><td>12</td><td>0</td><td>1</td><td>4</td><td>0</td></tr><tr><td>1</td><td>114</td><td>1</td><td>&quot;15-50% offer&quot;</td><td>2017</td><td>11</td><td>0</td><td>0</td><td>1</td><td>0</td></tr><tr><td>2</td><td>119</td><td>0</td><td>&quot;0% no offer&quot;</td><td>2017</td><td>11</td><td>0</td><td>0</td><td>1</td><td>0</td></tr><tr><td>2</td><td>119</td><td>0</td><td>&quot;0% no offer&quot;</td><td>2017</td><td>12</td><td>0</td><td>1</td><td>1</td><td>0</td></tr><tr><td>2</td><td>547</td><td>0</td><td>&quot;0% no offer&quot;</td><td>2017</td><td>12</td><td>0</td><td>1</td><td>4</td><td>0</td></tr><tr><td>3</td><td>118</td><td>1</td><td>&quot;15-50% offer&quot;</td><td>2017</td><td>12</td><td>0</td><td>1</td><td>1</td><td>0</td></tr><tr><td>3</td><td>217</td><td>0</td><td>&quot;0% no offer&quot;</td><td>2017</td><td>11</td><td>1</td><td>0</td><td>1</td><td>1</td></tr><tr><td>3</td><td>737</td><td>1</td><td>&quot;1-15% offer&quot;</td><td>2017</td><td>12</td><td>0</td><td>1</td><td>4</td><td>0</td></tr><tr><td>3</td><td>117</td><td>1</td><td>&quot;15-50% offer&quot;</td><td>2017</td><td>11</td><td>0</td><td>0</td><td>1</td><td>0</td></tr><tr><td>4</td><td>115</td><td>1</td><td>&quot;15-50% offer&quot;</td><td>2017</td><td>12</td><td>0</td><td>1</td><td>1</td><td>0</td></tr><tr><td>&hellip;</td><td>&hellip;</td><td>&hellip;</td><td>&hellip;</td><td>&hellip;</td><td>&hellip;</td><td>&hellip;</td><td>&hellip;</td><td>&hellip;</td><td>&hellip;</td></tr><tr><td>22899</td><td>77</td><td>0</td><td>&quot;0% no offer&quot;</td><td>2017</td><td>12</td><td>0</td><td>1</td><td>1</td><td>1</td></tr><tr><td>22899</td><td>77</td><td>0</td><td>&quot;0% no offer&quot;</td><td>2017</td><td>11</td><td>0</td><td>0</td><td>1</td><td>1</td></tr><tr><td>22900</td><td>108</td><td>0</td><td>&quot;0% no offer&quot;</td><td>2017</td><td>11</td><td>1</td><td>0</td><td>1</td><td>1</td></tr><tr><td>22900</td><td>138</td><td>0</td><td>&quot;0% no offer&quot;</td><td>2017</td><td>12</td><td>0</td><td>1</td><td>1</td><td>1</td></tr><tr><td>22900</td><td>509</td><td>0</td><td>&quot;0% no offer&quot;</td><td>2017</td><td>12</td><td>0</td><td>1</td><td>4</td><td>1</td></tr><tr><td>22901</td><td>379</td><td>0</td><td>&quot;0% no offer&quot;</td><td>2017</td><td>12</td><td>0</td><td>1</td><td>4</td><td>1</td></tr><tr><td>22901</td><td>94</td><td>0</td><td>&quot;0% no offer&quot;</td><td>2017</td><td>12</td><td>0</td><td>1</td><td>1</td><td>1</td></tr><tr><td>22901</td><td>94</td><td>0</td><td>&quot;0% no offer&quot;</td><td>2017</td><td>11</td><td>0</td><td>0</td><td>1</td><td>1</td></tr><tr><td>22901</td><td>94</td><td>0</td><td>&quot;0% no offer&quot;</td><td>2017</td><td>11</td><td>1</td><td>0</td><td>1</td><td>1</td></tr><tr><td>22902</td><td>119</td><td>1</td><td>&quot;15-50% offer&quot;</td><td>2017</td><td>11</td><td>0</td><td>0</td><td>1</td><td>1</td></tr><tr><td>22902</td><td>446</td><td>1</td><td>&quot;15-50% offer&quot;</td><td>2017</td><td>12</td><td>0</td><td>1</td><td>4</td><td>1</td></tr><tr><td>22902</td><td>117</td><td>1</td><td>&quot;15-50% offer&quot;</td><td>2017</td><td>12</td><td>0</td><td>1</td><td>1</td><td>1</td></tr></tbody></table></div>"
      ],
      "text/plain": [
       "shape: (62_235, 10)\n",
       "┌──────────┬───────┬───────┬──────────────┬───┬─────────┬─────────┬─────────┬─────────────┐\n",
       "│ hotel_id ┆ price ┆ offer ┆ offer_cat    ┆ … ┆ weekend ┆ holiday ┆ nnights ┆ scarce_room │\n",
       "│ ---      ┆ ---   ┆ ---   ┆ ---          ┆   ┆ ---     ┆ ---     ┆ ---     ┆ ---         │\n",
       "│ i64      ┆ i64   ┆ i64   ┆ str          ┆   ┆ i64     ┆ i64     ┆ i64     ┆ i64         │\n",
       "╞══════════╪═══════╪═══════╪══════════════╪═══╪═════════╪═════════╪═════════╪═════════════╡\n",
       "│ 1        ┆ 172   ┆ 0     ┆ 0% no offer  ┆ … ┆ 1       ┆ 0       ┆ 1       ┆ 0           │\n",
       "│ 1        ┆ 122   ┆ 1     ┆ 15-50% offer ┆ … ┆ 0       ┆ 1       ┆ 1       ┆ 0           │\n",
       "│ 1        ┆ 552   ┆ 1     ┆ 1-15% offer  ┆ … ┆ 0       ┆ 1       ┆ 4       ┆ 0           │\n",
       "│ 1        ┆ 114   ┆ 1     ┆ 15-50% offer ┆ … ┆ 0       ┆ 0       ┆ 1       ┆ 0           │\n",
       "│ …        ┆ …     ┆ …     ┆ …            ┆ … ┆ …       ┆ …       ┆ …       ┆ …           │\n",
       "│ 22901    ┆ 94    ┆ 0     ┆ 0% no offer  ┆ … ┆ 1       ┆ 0       ┆ 1       ┆ 1           │\n",
       "│ 22902    ┆ 119   ┆ 1     ┆ 15-50% offer ┆ … ┆ 0       ┆ 0       ┆ 1       ┆ 1           │\n",
       "│ 22902    ┆ 446   ┆ 1     ┆ 15-50% offer ┆ … ┆ 0       ┆ 1       ┆ 4       ┆ 1           │\n",
       "│ 22902    ┆ 117   ┆ 1     ┆ 15-50% offer ┆ … ┆ 0       ┆ 1       ┆ 1       ┆ 1           │\n",
       "└──────────┴───────┴───────┴──────────────┴───┴─────────┴─────────┴─────────┴─────────────┘"
      ]
     },
     "execution_count": 8,
     "metadata": {},
     "output_type": "execute_result"
    }
   ],
   "source": [
    "df.filter(\n",
    "    (pl.col('year') == 2017)\n",
    ").collect()"
   ]
  },
  {
   "cell_type": "code",
   "execution_count": 9,
   "metadata": {},
   "outputs": [
    {
     "data": {
      "text/html": [
       "<div><style>\n",
       ".dataframe > thead > tr > th,\n",
       ".dataframe > tbody > tr > td {\n",
       "  text-align: right;\n",
       "  white-space: pre-wrap;\n",
       "}\n",
       "</style>\n",
       "<small>shape: (137, 10)</small><table border=\"1\" class=\"dataframe\"><thead><tr><th>hotel_id</th><th>price</th><th>offer</th><th>offer_cat</th><th>year</th><th>month</th><th>weekend</th><th>holiday</th><th>nnights</th><th>scarce_room</th></tr><tr><td>i64</td><td>i64</td><td>i64</td><td>str</td><td>i64</td><td>i64</td><td>i64</td><td>i64</td><td>i64</td><td>i64</td></tr></thead><tbody><tr><td>5</td><td>3087</td><td>1</td><td>&quot;15-50% offer&quot;</td><td>2017</td><td>12</td><td>0</td><td>1</td><td>4</td><td>1</td></tr><tr><td>113</td><td>2940</td><td>1</td><td>&quot;1-15% offer&quot;</td><td>2017</td><td>12</td><td>0</td><td>1</td><td>4</td><td>0</td></tr><tr><td>118</td><td>2998</td><td>0</td><td>&quot;0% no offer&quot;</td><td>2017</td><td>12</td><td>0</td><td>1</td><td>4</td><td>1</td></tr><tr><td>197</td><td>3308</td><td>0</td><td>&quot;0% no offer&quot;</td><td>2017</td><td>12</td><td>0</td><td>1</td><td>4</td><td>0</td></tr><tr><td>299</td><td>3620</td><td>1</td><td>&quot;1-15% offer&quot;</td><td>2017</td><td>12</td><td>0</td><td>1</td><td>4</td><td>1</td></tr><tr><td>319</td><td>2704</td><td>1</td><td>&quot;15-50% offer&quot;</td><td>2017</td><td>12</td><td>0</td><td>1</td><td>4</td><td>1</td></tr><tr><td>869</td><td>2886</td><td>0</td><td>&quot;0% no offer&quot;</td><td>2017</td><td>12</td><td>0</td><td>1</td><td>4</td><td>1</td></tr><tr><td>922</td><td>2522</td><td>0</td><td>&quot;0% no offer&quot;</td><td>2017</td><td>12</td><td>0</td><td>1</td><td>4</td><td>1</td></tr><tr><td>1084</td><td>3499</td><td>1</td><td>&quot;15-50% offer&quot;</td><td>2017</td><td>12</td><td>0</td><td>1</td><td>4</td><td>1</td></tr><tr><td>1087</td><td>2580</td><td>0</td><td>&quot;0% no offer&quot;</td><td>2017</td><td>12</td><td>0</td><td>1</td><td>4</td><td>0</td></tr><tr><td>1123</td><td>2695</td><td>0</td><td>&quot;0% no offer&quot;</td><td>2017</td><td>12</td><td>0</td><td>1</td><td>4</td><td>1</td></tr><tr><td>1296</td><td>5238</td><td>1</td><td>&quot;15-50% offer&quot;</td><td>2017</td><td>12</td><td>0</td><td>1</td><td>4</td><td>1</td></tr><tr><td>&hellip;</td><td>&hellip;</td><td>&hellip;</td><td>&hellip;</td><td>&hellip;</td><td>&hellip;</td><td>&hellip;</td><td>&hellip;</td><td>&hellip;</td><td>&hellip;</td></tr><tr><td>20373</td><td>6737</td><td>0</td><td>&quot;0% no offer&quot;</td><td>2017</td><td>12</td><td>0</td><td>1</td><td>4</td><td>1</td></tr><tr><td>20374</td><td>6501</td><td>0</td><td>&quot;0% no offer&quot;</td><td>2017</td><td>12</td><td>0</td><td>1</td><td>4</td><td>1</td></tr><tr><td>20400</td><td>2767</td><td>0</td><td>&quot;0% no offer&quot;</td><td>2017</td><td>12</td><td>0</td><td>1</td><td>4</td><td>1</td></tr><tr><td>20459</td><td>4355</td><td>0</td><td>&quot;0% no offer&quot;</td><td>2017</td><td>12</td><td>0</td><td>1</td><td>4</td><td>1</td></tr><tr><td>20477</td><td>2762</td><td>0</td><td>&quot;0% no offer&quot;</td><td>2017</td><td>12</td><td>0</td><td>1</td><td>4</td><td>1</td></tr><tr><td>21969</td><td>4690</td><td>0</td><td>&quot;0% no offer&quot;</td><td>2017</td><td>12</td><td>0</td><td>1</td><td>4</td><td>0</td></tr><tr><td>21976</td><td>4006</td><td>0</td><td>&quot;0% no offer&quot;</td><td>2017</td><td>12</td><td>0</td><td>1</td><td>4</td><td>0</td></tr><tr><td>22006</td><td>4528</td><td>0</td><td>&quot;0% no offer&quot;</td><td>2017</td><td>12</td><td>0</td><td>1</td><td>4</td><td>1</td></tr><tr><td>22017</td><td>2531</td><td>0</td><td>&quot;0% no offer&quot;</td><td>2017</td><td>12</td><td>0</td><td>1</td><td>4</td><td>1</td></tr><tr><td>22039</td><td>2536</td><td>0</td><td>&quot;0% no offer&quot;</td><td>2017</td><td>12</td><td>0</td><td>1</td><td>4</td><td>0</td></tr><tr><td>22147</td><td>6510</td><td>0</td><td>&quot;0% no offer&quot;</td><td>2017</td><td>12</td><td>0</td><td>1</td><td>1</td><td>1</td></tr><tr><td>22164</td><td>3218</td><td>1</td><td>&quot;15-50% offer&quot;</td><td>2017</td><td>12</td><td>0</td><td>1</td><td>4</td><td>1</td></tr></tbody></table></div>"
      ],
      "text/plain": [
       "shape: (137, 10)\n",
       "┌──────────┬───────┬───────┬──────────────┬───┬─────────┬─────────┬─────────┬─────────────┐\n",
       "│ hotel_id ┆ price ┆ offer ┆ offer_cat    ┆ … ┆ weekend ┆ holiday ┆ nnights ┆ scarce_room │\n",
       "│ ---      ┆ ---   ┆ ---   ┆ ---          ┆   ┆ ---     ┆ ---     ┆ ---     ┆ ---         │\n",
       "│ i64      ┆ i64   ┆ i64   ┆ str          ┆   ┆ i64     ┆ i64     ┆ i64     ┆ i64         │\n",
       "╞══════════╪═══════╪═══════╪══════════════╪═══╪═════════╪═════════╪═════════╪═════════════╡\n",
       "│ 5        ┆ 3087  ┆ 1     ┆ 15-50% offer ┆ … ┆ 0       ┆ 1       ┆ 4       ┆ 1           │\n",
       "│ 113      ┆ 2940  ┆ 1     ┆ 1-15% offer  ┆ … ┆ 0       ┆ 1       ┆ 4       ┆ 0           │\n",
       "│ 118      ┆ 2998  ┆ 0     ┆ 0% no offer  ┆ … ┆ 0       ┆ 1       ┆ 4       ┆ 1           │\n",
       "│ 197      ┆ 3308  ┆ 0     ┆ 0% no offer  ┆ … ┆ 0       ┆ 1       ┆ 4       ┆ 0           │\n",
       "│ …        ┆ …     ┆ …     ┆ …            ┆ … ┆ …       ┆ …       ┆ …       ┆ …           │\n",
       "│ 22017    ┆ 2531  ┆ 0     ┆ 0% no offer  ┆ … ┆ 0       ┆ 1       ┆ 4       ┆ 1           │\n",
       "│ 22039    ┆ 2536  ┆ 0     ┆ 0% no offer  ┆ … ┆ 0       ┆ 1       ┆ 4       ┆ 0           │\n",
       "│ 22147    ┆ 6510  ┆ 0     ┆ 0% no offer  ┆ … ┆ 0       ┆ 1       ┆ 1       ┆ 1           │\n",
       "│ 22164    ┆ 3218  ┆ 1     ┆ 15-50% offer ┆ … ┆ 0       ┆ 1       ┆ 4       ┆ 1           │\n",
       "└──────────┴───────┴───────┴──────────────┴───┴─────────┴─────────┴─────────┴─────────────┘"
      ]
     },
     "execution_count": 9,
     "metadata": {},
     "output_type": "execute_result"
    }
   ],
   "source": [
    "df.filter(\n",
    "    (pl.col('year') == 2017) &\n",
    "    (pl.col('price') > 2500)\n",
    ").collect()"
   ]
  },
  {
   "cell_type": "code",
   "execution_count": 10,
   "metadata": {},
   "outputs": [
    {
     "data": {
      "text/html": [
       "<div><style>\n",
       ".dataframe > thead > tr > th,\n",
       ".dataframe > tbody > tr > td {\n",
       "  text-align: right;\n",
       "  white-space: pre-wrap;\n",
       "}\n",
       "</style>\n",
       "<small>shape: (10, 10)</small><table border=\"1\" class=\"dataframe\"><thead><tr><th>hotel_id</th><th>price</th><th>offer</th><th>offer_cat</th><th>year</th><th>month</th><th>weekend</th><th>holiday</th><th>nnights</th><th>scarce_room</th></tr><tr><td>i64</td><td>i64</td><td>i64</td><td>str</td><td>i64</td><td>i64</td><td>i64</td><td>i64</td><td>i64</td><td>i64</td></tr></thead><tbody><tr><td>922</td><td>2522</td><td>0</td><td>&quot;0% no offer&quot;</td><td>2017</td><td>12</td><td>0</td><td>1</td><td>4</td><td>1</td></tr><tr><td>1087</td><td>2580</td><td>0</td><td>&quot;0% no offer&quot;</td><td>2017</td><td>12</td><td>0</td><td>1</td><td>4</td><td>0</td></tr><tr><td>3417</td><td>2507</td><td>0</td><td>&quot;0% no offer&quot;</td><td>2017</td><td>12</td><td>0</td><td>1</td><td>4</td><td>1</td></tr><tr><td>7905</td><td>2512</td><td>0</td><td>&quot;0% no offer&quot;</td><td>2017</td><td>12</td><td>0</td><td>1</td><td>4</td><td>1</td></tr><tr><td>8035</td><td>2507</td><td>0</td><td>&quot;0% no offer&quot;</td><td>2017</td><td>12</td><td>0</td><td>1</td><td>4</td><td>0</td></tr><tr><td>8512</td><td>2548</td><td>1</td><td>&quot;50%-75% offer&quot;</td><td>2017</td><td>12</td><td>0</td><td>1</td><td>4</td><td>0</td></tr><tr><td>9535</td><td>2509</td><td>0</td><td>&quot;0% no offer&quot;</td><td>2017</td><td>12</td><td>0</td><td>1</td><td>4</td><td>1</td></tr><tr><td>18785</td><td>2509</td><td>0</td><td>&quot;0% no offer&quot;</td><td>2017</td><td>12</td><td>0</td><td>1</td><td>4</td><td>1</td></tr><tr><td>22017</td><td>2531</td><td>0</td><td>&quot;0% no offer&quot;</td><td>2017</td><td>12</td><td>0</td><td>1</td><td>4</td><td>1</td></tr><tr><td>22039</td><td>2536</td><td>0</td><td>&quot;0% no offer&quot;</td><td>2017</td><td>12</td><td>0</td><td>1</td><td>4</td><td>0</td></tr></tbody></table></div>"
      ],
      "text/plain": [
       "shape: (10, 10)\n",
       "┌──────────┬───────┬───────┬─────────────┬───┬─────────┬─────────┬─────────┬─────────────┐\n",
       "│ hotel_id ┆ price ┆ offer ┆ offer_cat   ┆ … ┆ weekend ┆ holiday ┆ nnights ┆ scarce_room │\n",
       "│ ---      ┆ ---   ┆ ---   ┆ ---         ┆   ┆ ---     ┆ ---     ┆ ---     ┆ ---         │\n",
       "│ i64      ┆ i64   ┆ i64   ┆ str         ┆   ┆ i64     ┆ i64     ┆ i64     ┆ i64         │\n",
       "╞══════════╪═══════╪═══════╪═════════════╪═══╪═════════╪═════════╪═════════╪═════════════╡\n",
       "│ 922      ┆ 2522  ┆ 0     ┆ 0% no offer ┆ … ┆ 0       ┆ 1       ┆ 4       ┆ 1           │\n",
       "│ 1087     ┆ 2580  ┆ 0     ┆ 0% no offer ┆ … ┆ 0       ┆ 1       ┆ 4       ┆ 0           │\n",
       "│ 3417     ┆ 2507  ┆ 0     ┆ 0% no offer ┆ … ┆ 0       ┆ 1       ┆ 4       ┆ 1           │\n",
       "│ 7905     ┆ 2512  ┆ 0     ┆ 0% no offer ┆ … ┆ 0       ┆ 1       ┆ 4       ┆ 1           │\n",
       "│ …        ┆ …     ┆ …     ┆ …           ┆ … ┆ …       ┆ …       ┆ …       ┆ …           │\n",
       "│ 9535     ┆ 2509  ┆ 0     ┆ 0% no offer ┆ … ┆ 0       ┆ 1       ┆ 4       ┆ 1           │\n",
       "│ 18785    ┆ 2509  ┆ 0     ┆ 0% no offer ┆ … ┆ 0       ┆ 1       ┆ 4       ┆ 1           │\n",
       "│ 22017    ┆ 2531  ┆ 0     ┆ 0% no offer ┆ … ┆ 0       ┆ 1       ┆ 4       ┆ 1           │\n",
       "│ 22039    ┆ 2536  ┆ 0     ┆ 0% no offer ┆ … ┆ 0       ┆ 1       ┆ 4       ┆ 0           │\n",
       "└──────────┴───────┴───────┴─────────────┴───┴─────────┴─────────┴─────────┴─────────────┘"
      ]
     },
     "execution_count": 10,
     "metadata": {},
     "output_type": "execute_result"
    }
   ],
   "source": [
    "df.filter(\n",
    "    (pl.col('year') != 2018) &\n",
    "    (pl.col('price') > 2500) & \n",
    "    (pl.col('price') < 2600) &\n",
    "    (\n",
    "        (pl.col('offer_cat') == \"50%-75% offer\") |\n",
    "        (pl.col('offer_cat') == \"0% no offer\")\n",
    "    )\n",
    ").collect()"
   ]
  },
  {
   "cell_type": "markdown",
   "metadata": {},
   "source": [
    "### with_columns"
   ]
  },
  {
   "cell_type": "code",
   "execution_count": 11,
   "metadata": {},
   "outputs": [
    {
     "data": {
      "text/html": [
       "<div><style>\n",
       ".dataframe > thead > tr > th,\n",
       ".dataframe > tbody > tr > td {\n",
       "  text-align: right;\n",
       "  white-space: pre-wrap;\n",
       "}\n",
       "</style>\n",
       "<small>shape: (148_021, 11)</small><table border=\"1\" class=\"dataframe\"><thead><tr><th>hotel_id</th><th>price</th><th>offer</th><th>offer_cat</th><th>year</th><th>month</th><th>weekend</th><th>holiday</th><th>nnights</th><th>scarce_room</th><th>breakfast</th></tr><tr><td>i64</td><td>i64</td><td>i64</td><td>str</td><td>i64</td><td>i64</td><td>i64</td><td>i64</td><td>i64</td><td>i64</td><td>i32</td></tr></thead><tbody><tr><td>1</td><td>172</td><td>0</td><td>&quot;0% no offer&quot;</td><td>2017</td><td>11</td><td>1</td><td>0</td><td>1</td><td>0</td><td>1</td></tr><tr><td>1</td><td>122</td><td>1</td><td>&quot;15-50% offer&quot;</td><td>2018</td><td>1</td><td>1</td><td>0</td><td>1</td><td>0</td><td>1</td></tr><tr><td>1</td><td>122</td><td>1</td><td>&quot;15-50% offer&quot;</td><td>2017</td><td>12</td><td>0</td><td>1</td><td>1</td><td>0</td><td>1</td></tr><tr><td>1</td><td>552</td><td>1</td><td>&quot;1-15% offer&quot;</td><td>2017</td><td>12</td><td>0</td><td>1</td><td>4</td><td>0</td><td>1</td></tr><tr><td>1</td><td>122</td><td>1</td><td>&quot;15-50% offer&quot;</td><td>2018</td><td>2</td><td>1</td><td>0</td><td>1</td><td>0</td><td>1</td></tr><tr><td>1</td><td>114</td><td>1</td><td>&quot;15-50% offer&quot;</td><td>2017</td><td>11</td><td>0</td><td>0</td><td>1</td><td>0</td><td>1</td></tr><tr><td>2</td><td>119</td><td>0</td><td>&quot;0% no offer&quot;</td><td>2017</td><td>11</td><td>0</td><td>0</td><td>1</td><td>0</td><td>1</td></tr><tr><td>2</td><td>119</td><td>0</td><td>&quot;0% no offer&quot;</td><td>2017</td><td>12</td><td>0</td><td>1</td><td>1</td><td>0</td><td>1</td></tr><tr><td>2</td><td>547</td><td>0</td><td>&quot;0% no offer&quot;</td><td>2017</td><td>12</td><td>0</td><td>1</td><td>4</td><td>0</td><td>1</td></tr><tr><td>3</td><td>118</td><td>1</td><td>&quot;15-50% offer&quot;</td><td>2017</td><td>12</td><td>0</td><td>1</td><td>1</td><td>0</td><td>1</td></tr><tr><td>3</td><td>217</td><td>0</td><td>&quot;0% no offer&quot;</td><td>2017</td><td>11</td><td>1</td><td>0</td><td>1</td><td>1</td><td>1</td></tr><tr><td>3</td><td>114</td><td>1</td><td>&quot;15-50% offer&quot;</td><td>2018</td><td>1</td><td>1</td><td>0</td><td>1</td><td>0</td><td>1</td></tr><tr><td>&hellip;</td><td>&hellip;</td><td>&hellip;</td><td>&hellip;</td><td>&hellip;</td><td>&hellip;</td><td>&hellip;</td><td>&hellip;</td><td>&hellip;</td><td>&hellip;</td><td>&hellip;</td></tr><tr><td>22900</td><td>509</td><td>0</td><td>&quot;0% no offer&quot;</td><td>2017</td><td>12</td><td>0</td><td>1</td><td>4</td><td>1</td><td>1</td></tr><tr><td>22901</td><td>379</td><td>0</td><td>&quot;0% no offer&quot;</td><td>2017</td><td>12</td><td>0</td><td>1</td><td>4</td><td>1</td><td>1</td></tr><tr><td>22901</td><td>94</td><td>0</td><td>&quot;0% no offer&quot;</td><td>2017</td><td>12</td><td>0</td><td>1</td><td>1</td><td>1</td><td>1</td></tr><tr><td>22901</td><td>94</td><td>0</td><td>&quot;0% no offer&quot;</td><td>2017</td><td>11</td><td>0</td><td>0</td><td>1</td><td>1</td><td>1</td></tr><tr><td>22901</td><td>94</td><td>0</td><td>&quot;0% no offer&quot;</td><td>2017</td><td>11</td><td>1</td><td>0</td><td>1</td><td>1</td><td>1</td></tr><tr><td>22902</td><td>149</td><td>1</td><td>&quot;15-50% offer&quot;</td><td>2018</td><td>1</td><td>1</td><td>0</td><td>1</td><td>1</td><td>1</td></tr><tr><td>22902</td><td>109</td><td>1</td><td>&quot;15-50% offer&quot;</td><td>2018</td><td>2</td><td>1</td><td>0</td><td>1</td><td>1</td><td>1</td></tr><tr><td>22902</td><td>119</td><td>1</td><td>&quot;15-50% offer&quot;</td><td>2017</td><td>11</td><td>0</td><td>0</td><td>1</td><td>1</td><td>1</td></tr><tr><td>22902</td><td>109</td><td>1</td><td>&quot;15-50% offer&quot;</td><td>2018</td><td>4</td><td>1</td><td>0</td><td>1</td><td>1</td><td>1</td></tr><tr><td>22902</td><td>109</td><td>1</td><td>&quot;15-50% offer&quot;</td><td>2018</td><td>3</td><td>1</td><td>0</td><td>1</td><td>1</td><td>1</td></tr><tr><td>22902</td><td>446</td><td>1</td><td>&quot;15-50% offer&quot;</td><td>2017</td><td>12</td><td>0</td><td>1</td><td>4</td><td>1</td><td>1</td></tr><tr><td>22902</td><td>117</td><td>1</td><td>&quot;15-50% offer&quot;</td><td>2017</td><td>12</td><td>0</td><td>1</td><td>1</td><td>1</td><td>1</td></tr></tbody></table></div>"
      ],
      "text/plain": [
       "shape: (148_021, 11)\n",
       "┌──────────┬───────┬───────┬──────────────┬───┬─────────┬─────────┬─────────────┬───────────┐\n",
       "│ hotel_id ┆ price ┆ offer ┆ offer_cat    ┆ … ┆ holiday ┆ nnights ┆ scarce_room ┆ breakfast │\n",
       "│ ---      ┆ ---   ┆ ---   ┆ ---          ┆   ┆ ---     ┆ ---     ┆ ---         ┆ ---       │\n",
       "│ i64      ┆ i64   ┆ i64   ┆ str          ┆   ┆ i64     ┆ i64     ┆ i64         ┆ i32       │\n",
       "╞══════════╪═══════╪═══════╪══════════════╪═══╪═════════╪═════════╪═════════════╪═══════════╡\n",
       "│ 1        ┆ 172   ┆ 0     ┆ 0% no offer  ┆ … ┆ 0       ┆ 1       ┆ 0           ┆ 1         │\n",
       "│ 1        ┆ 122   ┆ 1     ┆ 15-50% offer ┆ … ┆ 0       ┆ 1       ┆ 0           ┆ 1         │\n",
       "│ 1        ┆ 122   ┆ 1     ┆ 15-50% offer ┆ … ┆ 1       ┆ 1       ┆ 0           ┆ 1         │\n",
       "│ 1        ┆ 552   ┆ 1     ┆ 1-15% offer  ┆ … ┆ 1       ┆ 4       ┆ 0           ┆ 1         │\n",
       "│ …        ┆ …     ┆ …     ┆ …            ┆ … ┆ …       ┆ …       ┆ …           ┆ …         │\n",
       "│ 22902    ┆ 109   ┆ 1     ┆ 15-50% offer ┆ … ┆ 0       ┆ 1       ┆ 1           ┆ 1         │\n",
       "│ 22902    ┆ 109   ┆ 1     ┆ 15-50% offer ┆ … ┆ 0       ┆ 1       ┆ 1           ┆ 1         │\n",
       "│ 22902    ┆ 446   ┆ 1     ┆ 15-50% offer ┆ … ┆ 1       ┆ 4       ┆ 1           ┆ 1         │\n",
       "│ 22902    ┆ 117   ┆ 1     ┆ 15-50% offer ┆ … ┆ 1       ┆ 1       ┆ 1           ┆ 1         │\n",
       "└──────────┴───────┴───────┴──────────────┴───┴─────────┴─────────┴─────────────┴───────────┘"
      ]
     },
     "execution_count": 11,
     "metadata": {},
     "output_type": "execute_result"
    }
   ],
   "source": [
    "df.with_columns(\n",
    "    breakfast = pl.lit(1)\n",
    ").collect()"
   ]
  },
  {
   "cell_type": "code",
   "execution_count": 12,
   "metadata": {},
   "outputs": [
    {
     "data": {
      "text/html": [
       "<div><style>\n",
       ".dataframe > thead > tr > th,\n",
       ".dataframe > tbody > tr > td {\n",
       "  text-align: right;\n",
       "  white-space: pre-wrap;\n",
       "}\n",
       "</style>\n",
       "<small>shape: (148_021, 11)</small><table border=\"1\" class=\"dataframe\"><thead><tr><th>hotel_id</th><th>price</th><th>offer</th><th>offer_cat</th><th>year</th><th>month</th><th>weekend</th><th>holiday</th><th>nnights</th><th>scarce_room</th><th>random_breakfast</th></tr><tr><td>i64</td><td>i64</td><td>i64</td><td>str</td><td>i64</td><td>i64</td><td>i64</td><td>i64</td><td>i64</td><td>i64</td><td>i64</td></tr></thead><tbody><tr><td>1</td><td>172</td><td>0</td><td>&quot;0% no offer&quot;</td><td>2017</td><td>11</td><td>1</td><td>0</td><td>1</td><td>0</td><td>0</td></tr><tr><td>1</td><td>122</td><td>1</td><td>&quot;15-50% offer&quot;</td><td>2018</td><td>1</td><td>1</td><td>0</td><td>1</td><td>0</td><td>1</td></tr><tr><td>1</td><td>122</td><td>1</td><td>&quot;15-50% offer&quot;</td><td>2017</td><td>12</td><td>0</td><td>1</td><td>1</td><td>0</td><td>1</td></tr><tr><td>1</td><td>552</td><td>1</td><td>&quot;1-15% offer&quot;</td><td>2017</td><td>12</td><td>0</td><td>1</td><td>4</td><td>0</td><td>0</td></tr><tr><td>1</td><td>122</td><td>1</td><td>&quot;15-50% offer&quot;</td><td>2018</td><td>2</td><td>1</td><td>0</td><td>1</td><td>0</td><td>0</td></tr><tr><td>1</td><td>114</td><td>1</td><td>&quot;15-50% offer&quot;</td><td>2017</td><td>11</td><td>0</td><td>0</td><td>1</td><td>0</td><td>1</td></tr><tr><td>2</td><td>119</td><td>0</td><td>&quot;0% no offer&quot;</td><td>2017</td><td>11</td><td>0</td><td>0</td><td>1</td><td>0</td><td>0</td></tr><tr><td>2</td><td>119</td><td>0</td><td>&quot;0% no offer&quot;</td><td>2017</td><td>12</td><td>0</td><td>1</td><td>1</td><td>0</td><td>0</td></tr><tr><td>2</td><td>547</td><td>0</td><td>&quot;0% no offer&quot;</td><td>2017</td><td>12</td><td>0</td><td>1</td><td>4</td><td>0</td><td>0</td></tr><tr><td>3</td><td>118</td><td>1</td><td>&quot;15-50% offer&quot;</td><td>2017</td><td>12</td><td>0</td><td>1</td><td>1</td><td>0</td><td>1</td></tr><tr><td>3</td><td>217</td><td>0</td><td>&quot;0% no offer&quot;</td><td>2017</td><td>11</td><td>1</td><td>0</td><td>1</td><td>1</td><td>0</td></tr><tr><td>3</td><td>114</td><td>1</td><td>&quot;15-50% offer&quot;</td><td>2018</td><td>1</td><td>1</td><td>0</td><td>1</td><td>0</td><td>0</td></tr><tr><td>&hellip;</td><td>&hellip;</td><td>&hellip;</td><td>&hellip;</td><td>&hellip;</td><td>&hellip;</td><td>&hellip;</td><td>&hellip;</td><td>&hellip;</td><td>&hellip;</td><td>&hellip;</td></tr><tr><td>22900</td><td>509</td><td>0</td><td>&quot;0% no offer&quot;</td><td>2017</td><td>12</td><td>0</td><td>1</td><td>4</td><td>1</td><td>1</td></tr><tr><td>22901</td><td>379</td><td>0</td><td>&quot;0% no offer&quot;</td><td>2017</td><td>12</td><td>0</td><td>1</td><td>4</td><td>1</td><td>0</td></tr><tr><td>22901</td><td>94</td><td>0</td><td>&quot;0% no offer&quot;</td><td>2017</td><td>12</td><td>0</td><td>1</td><td>1</td><td>1</td><td>0</td></tr><tr><td>22901</td><td>94</td><td>0</td><td>&quot;0% no offer&quot;</td><td>2017</td><td>11</td><td>0</td><td>0</td><td>1</td><td>1</td><td>1</td></tr><tr><td>22901</td><td>94</td><td>0</td><td>&quot;0% no offer&quot;</td><td>2017</td><td>11</td><td>1</td><td>0</td><td>1</td><td>1</td><td>1</td></tr><tr><td>22902</td><td>149</td><td>1</td><td>&quot;15-50% offer&quot;</td><td>2018</td><td>1</td><td>1</td><td>0</td><td>1</td><td>1</td><td>0</td></tr><tr><td>22902</td><td>109</td><td>1</td><td>&quot;15-50% offer&quot;</td><td>2018</td><td>2</td><td>1</td><td>0</td><td>1</td><td>1</td><td>1</td></tr><tr><td>22902</td><td>119</td><td>1</td><td>&quot;15-50% offer&quot;</td><td>2017</td><td>11</td><td>0</td><td>0</td><td>1</td><td>1</td><td>1</td></tr><tr><td>22902</td><td>109</td><td>1</td><td>&quot;15-50% offer&quot;</td><td>2018</td><td>4</td><td>1</td><td>0</td><td>1</td><td>1</td><td>1</td></tr><tr><td>22902</td><td>109</td><td>1</td><td>&quot;15-50% offer&quot;</td><td>2018</td><td>3</td><td>1</td><td>0</td><td>1</td><td>1</td><td>0</td></tr><tr><td>22902</td><td>446</td><td>1</td><td>&quot;15-50% offer&quot;</td><td>2017</td><td>12</td><td>0</td><td>1</td><td>4</td><td>1</td><td>1</td></tr><tr><td>22902</td><td>117</td><td>1</td><td>&quot;15-50% offer&quot;</td><td>2017</td><td>12</td><td>0</td><td>1</td><td>1</td><td>1</td><td>0</td></tr></tbody></table></div>"
      ],
      "text/plain": [
       "shape: (148_021, 11)\n",
       "┌──────────┬───────┬───────┬──────────────┬───┬─────────┬─────────┬─────────────┬──────────────────┐\n",
       "│ hotel_id ┆ price ┆ offer ┆ offer_cat    ┆ … ┆ holiday ┆ nnights ┆ scarce_room ┆ random_breakfast │\n",
       "│ ---      ┆ ---   ┆ ---   ┆ ---          ┆   ┆ ---     ┆ ---     ┆ ---         ┆ ---              │\n",
       "│ i64      ┆ i64   ┆ i64   ┆ str          ┆   ┆ i64     ┆ i64     ┆ i64         ┆ i64              │\n",
       "╞══════════╪═══════╪═══════╪══════════════╪═══╪═════════╪═════════╪═════════════╪══════════════════╡\n",
       "│ 1        ┆ 172   ┆ 0     ┆ 0% no offer  ┆ … ┆ 0       ┆ 1       ┆ 0           ┆ 0                │\n",
       "│ 1        ┆ 122   ┆ 1     ┆ 15-50% offer ┆ … ┆ 0       ┆ 1       ┆ 0           ┆ 1                │\n",
       "│ 1        ┆ 122   ┆ 1     ┆ 15-50% offer ┆ … ┆ 1       ┆ 1       ┆ 0           ┆ 1                │\n",
       "│ 1        ┆ 552   ┆ 1     ┆ 1-15% offer  ┆ … ┆ 1       ┆ 4       ┆ 0           ┆ 0                │\n",
       "│ …        ┆ …     ┆ …     ┆ …            ┆ … ┆ …       ┆ …       ┆ …           ┆ …                │\n",
       "│ 22902    ┆ 109   ┆ 1     ┆ 15-50% offer ┆ … ┆ 0       ┆ 1       ┆ 1           ┆ 1                │\n",
       "│ 22902    ┆ 109   ┆ 1     ┆ 15-50% offer ┆ … ┆ 0       ┆ 1       ┆ 1           ┆ 0                │\n",
       "│ 22902    ┆ 446   ┆ 1     ┆ 15-50% offer ┆ … ┆ 1       ┆ 4       ┆ 1           ┆ 1                │\n",
       "│ 22902    ┆ 117   ┆ 1     ┆ 15-50% offer ┆ … ┆ 1       ┆ 1       ┆ 1           ┆ 0                │\n",
       "└──────────┴───────┴───────┴──────────────┴───┴─────────┴─────────┴─────────────┴──────────────────┘"
      ]
     },
     "execution_count": 12,
     "metadata": {},
     "output_type": "execute_result"
    }
   ],
   "source": [
    "df.with_columns(\n",
    "    random_breakfast = pl.Series(\n",
    "        np.random.choice([0, 1], len(df.select(pl.col(\"hotel_id\")).collect()))\n",
    "    )\n",
    ").collect()\n",
    "\n",
    "# to create values for each row the length of the dataframe has to be determined. \n",
    "# selecting and collecting only 'hotel_id' takes 13ms, \n",
    "# selecting the whole dataframe (with pl.all() or pl.col('*')) takes 31ms"
   ]
  },
  {
   "cell_type": "markdown",
   "metadata": {},
   "source": [
    "### group_by"
   ]
  },
  {
   "cell_type": "code",
   "execution_count": 13,
   "metadata": {},
   "outputs": [
    {
     "data": {
      "text/html": [
       "<div><style>\n",
       ".dataframe > thead > tr > th,\n",
       ".dataframe > tbody > tr > td {\n",
       "  text-align: right;\n",
       "  white-space: pre-wrap;\n",
       "}\n",
       "</style>\n",
       "<small>shape: (22_902, 2)</small><table border=\"1\" class=\"dataframe\"><thead><tr><th>hotel_id</th><th>avg_price</th></tr><tr><td>i64</td><td>f64</td></tr></thead><tbody><tr><td>16832</td><td>315.0</td></tr><tr><td>7056</td><td>429.0</td></tr><tr><td>22696</td><td>123.7</td></tr><tr><td>19688</td><td>273.333333</td></tr><tr><td>6128</td><td>61.714286</td></tr><tr><td>17688</td><td>110.666667</td></tr><tr><td>22000</td><td>348.285714</td></tr><tr><td>7464</td><td>132.625</td></tr><tr><td>14072</td><td>274.0</td></tr><tr><td>9312</td><td>62.5</td></tr><tr><td>15056</td><td>62.7</td></tr><tr><td>8536</td><td>374.8</td></tr><tr><td>&hellip;</td><td>&hellip;</td></tr><tr><td>19455</td><td>100.0</td></tr><tr><td>7151</td><td>168.875</td></tr><tr><td>19607</td><td>80.5</td></tr><tr><td>6823</td><td>135.111111</td></tr><tr><td>1751</td><td>120.285714</td></tr><tr><td>20679</td><td>88.555556</td></tr><tr><td>7303</td><td>270.8</td></tr><tr><td>13239</td><td>169.0</td></tr><tr><td>11591</td><td>95.875</td></tr><tr><td>12455</td><td>264.0</td></tr><tr><td>12887</td><td>438.6</td></tr><tr><td>21759</td><td>225.125</td></tr></tbody></table></div>"
      ],
      "text/plain": [
       "shape: (22_902, 2)\n",
       "┌──────────┬────────────┐\n",
       "│ hotel_id ┆ avg_price  │\n",
       "│ ---      ┆ ---        │\n",
       "│ i64      ┆ f64        │\n",
       "╞══════════╪════════════╡\n",
       "│ 16832    ┆ 315.0      │\n",
       "│ 7056     ┆ 429.0      │\n",
       "│ 22696    ┆ 123.7      │\n",
       "│ 19688    ┆ 273.333333 │\n",
       "│ …        ┆ …          │\n",
       "│ 11591    ┆ 95.875     │\n",
       "│ 12455    ┆ 264.0      │\n",
       "│ 12887    ┆ 438.6      │\n",
       "│ 21759    ┆ 225.125    │\n",
       "└──────────┴────────────┘"
      ]
     },
     "execution_count": 13,
     "metadata": {},
     "output_type": "execute_result"
    }
   ],
   "source": [
    "df.group_by('hotel_id').agg(\n",
    "    pl.col('price').mean().alias('avg_price'),\n",
    ").collect()\n",
    "\n",
    "# you can add maintain_order=True to the groupby()\n",
    "# this will ensure that the order remains similar\n",
    "# to that in the dataframe. however the query becomes\n",
    "# slower if you include it (see Reference guide)"
   ]
  },
  {
   "cell_type": "code",
   "execution_count": 14,
   "metadata": {},
   "outputs": [
    {
     "data": {
      "text/html": [
       "<div><style>\n",
       ".dataframe > thead > tr > th,\n",
       ".dataframe > tbody > tr > td {\n",
       "  text-align: right;\n",
       "  white-space: pre-wrap;\n",
       "}\n",
       "</style>\n",
       "<small>shape: (15, 6)</small><table border=\"1\" class=\"dataframe\"><thead><tr><th>hotel_id</th><th>year</th><th>avg_price</th><th>min_price</th><th>max_price</th><th>n_prices</th></tr><tr><td>i64</td><td>i64</td><td>f64</td><td>i64</td><td>i64</td><td>u32</td></tr></thead><tbody><tr><td>1</td><td>2017</td><td>240.0</td><td>114</td><td>552</td><td>4</td></tr><tr><td>1</td><td>2018</td><td>122.0</td><td>122</td><td>122</td><td>1</td></tr><tr><td>2</td><td>2017</td><td>261.666667</td><td>119</td><td>547</td><td>2</td></tr><tr><td>3</td><td>2017</td><td>297.25</td><td>117</td><td>737</td><td>4</td></tr><tr><td>3</td><td>2018</td><td>114.0</td><td>114</td><td>114</td><td>1</td></tr><tr><td>4</td><td>2017</td><td>93.0</td><td>71</td><td>115</td><td>2</td></tr><tr><td>5</td><td>2018</td><td>809.0</td><td>696</td><td>922</td><td>2</td></tr><tr><td>5</td><td>2017</td><td>1347.25</td><td>690</td><td>3087</td><td>3</td></tr><tr><td>6</td><td>2018</td><td>252.0</td><td>216</td><td>324</td><td>2</td></tr><tr><td>6</td><td>2017</td><td>296.25</td><td>127</td><td>745</td><td>3</td></tr><tr><td>7</td><td>2018</td><td>207.5</td><td>187</td><td>228</td><td>2</td></tr><tr><td>7</td><td>2017</td><td>172.0</td><td>167</td><td>177</td><td>2</td></tr><tr><td>8</td><td>2017</td><td>597.0</td><td>207</td><td>987</td><td>2</td></tr><tr><td>9</td><td>2018</td><td>349.2</td><td>210</td><td>521</td><td>5</td></tr><tr><td>9</td><td>2017</td><td>472.0</td><td>197</td><td>1145</td><td>4</td></tr></tbody></table></div>"
      ],
      "text/plain": [
       "shape: (15, 6)\n",
       "┌──────────┬──────┬────────────┬───────────┬───────────┬──────────┐\n",
       "│ hotel_id ┆ year ┆ avg_price  ┆ min_price ┆ max_price ┆ n_prices │\n",
       "│ ---      ┆ ---  ┆ ---        ┆ ---       ┆ ---       ┆ ---      │\n",
       "│ i64      ┆ i64  ┆ f64        ┆ i64       ┆ i64       ┆ u32      │\n",
       "╞══════════╪══════╪════════════╪═══════════╪═══════════╪══════════╡\n",
       "│ 1        ┆ 2017 ┆ 240.0      ┆ 114       ┆ 552       ┆ 4        │\n",
       "│ 1        ┆ 2018 ┆ 122.0      ┆ 122       ┆ 122       ┆ 1        │\n",
       "│ 2        ┆ 2017 ┆ 261.666667 ┆ 119       ┆ 547       ┆ 2        │\n",
       "│ 3        ┆ 2017 ┆ 297.25     ┆ 117       ┆ 737       ┆ 4        │\n",
       "│ …        ┆ …    ┆ …          ┆ …         ┆ …         ┆ …        │\n",
       "│ 7        ┆ 2017 ┆ 172.0      ┆ 167       ┆ 177       ┆ 2        │\n",
       "│ 8        ┆ 2017 ┆ 597.0      ┆ 207       ┆ 987       ┆ 2        │\n",
       "│ 9        ┆ 2018 ┆ 349.2      ┆ 210       ┆ 521       ┆ 5        │\n",
       "│ 9        ┆ 2017 ┆ 472.0      ┆ 197       ┆ 1145      ┆ 4        │\n",
       "└──────────┴──────┴────────────┴───────────┴───────────┴──────────┘"
      ]
     },
     "execution_count": 14,
     "metadata": {},
     "output_type": "execute_result"
    }
   ],
   "source": [
    "df.group_by(['hotel_id', 'year'],maintain_order=True).agg(\n",
    "    pl.col('price').mean().alias('avg_price'),\n",
    "    pl.col('price').min().alias('min_price'),\n",
    "    pl.col('price').max().alias('max_price'),\n",
    "    pl.col('price').n_unique().alias('n_prices')\n",
    ").head(15).collect()"
   ]
  },
  {
   "cell_type": "markdown",
   "metadata": {},
   "source": [
    "## Part 2: Writing more complex queries"
   ]
  },
  {
   "cell_type": "code",
   "execution_count": 15,
   "metadata": {},
   "outputs": [],
   "source": [
    "df_len = len(df.select(pl.col('hotel_id')).collect())"
   ]
  },
  {
   "cell_type": "code",
   "execution_count": 16,
   "metadata": {},
   "outputs": [
    {
     "data": {
      "text/html": [
       "<div><style>\n",
       ".dataframe > thead > tr > th,\n",
       ".dataframe > tbody > tr > td {\n",
       "  text-align: right;\n",
       "  white-space: pre-wrap;\n",
       "}\n",
       "</style>\n",
       "<small>shape: (66, 8)</small><table border=\"1\" class=\"dataframe\"><thead><tr><th>hotel_id</th><th>year</th><th>month</th><th>price</th><th>total_price</th><th>is_breakfast</th><th>is_premium_location</th><th>offer_cat</th></tr><tr><td>i64</td><td>i64</td><td>i64</td><td>i64</td><td>i64</td><td>i64</td><td>i64</td><td>str</td></tr></thead><tbody><tr><td>14739</td><td>2018</td><td>3</td><td>7674</td><td>7674</td><td>1</td><td>1</td><td>&quot;0% no offer&quot;</td></tr><tr><td>10945</td><td>2018</td><td>4</td><td>5000</td><td>5000</td><td>1</td><td>1</td><td>&quot;0% no offer&quot;</td></tr><tr><td>1087</td><td>2018</td><td>3</td><td>1723</td><td>1723</td><td>1</td><td>1</td><td>&quot;0% no offer&quot;</td></tr><tr><td>11432</td><td>2018</td><td>3</td><td>1551</td><td>1551</td><td>1</td><td>1</td><td>&quot;0% no offer&quot;</td></tr><tr><td>6400</td><td>2018</td><td>5</td><td>1499</td><td>1499</td><td>1</td><td>1</td><td>&quot;0% no offer&quot;</td></tr><tr><td>12644</td><td>2018</td><td>6</td><td>1485</td><td>1485</td><td>1</td><td>1</td><td>&quot;0% no offer&quot;</td></tr><tr><td>13360</td><td>2018</td><td>6</td><td>1463</td><td>1463</td><td>1</td><td>1</td><td>&quot;0% no offer&quot;</td></tr><tr><td>10374</td><td>2018</td><td>2</td><td>1462</td><td>1462</td><td>1</td><td>1</td><td>&quot;0% no offer&quot;</td></tr><tr><td>21182</td><td>2018</td><td>6</td><td>1427</td><td>1427</td><td>1</td><td>1</td><td>&quot;0% no offer&quot;</td></tr><tr><td>1051</td><td>2018</td><td>2</td><td>1393</td><td>1393</td><td>1</td><td>1</td><td>&quot;15-50% offer&quot;</td></tr><tr><td>12644</td><td>2018</td><td>3</td><td>1393</td><td>1393</td><td>1</td><td>1</td><td>&quot;0% no offer&quot;</td></tr><tr><td>15367</td><td>2018</td><td>5</td><td>1351</td><td>1351</td><td>1</td><td>1</td><td>&quot;0% no offer&quot;</td></tr><tr><td>&hellip;</td><td>&hellip;</td><td>&hellip;</td><td>&hellip;</td><td>&hellip;</td><td>&hellip;</td><td>&hellip;</td><td>&hellip;</td></tr><tr><td>20180</td><td>2018</td><td>5</td><td>1043</td><td>1043</td><td>1</td><td>1</td><td>&quot;0% no offer&quot;</td></tr><tr><td>1221</td><td>2018</td><td>2</td><td>1037</td><td>1037</td><td>1</td><td>1</td><td>&quot;1-15% offer&quot;</td></tr><tr><td>13390</td><td>2018</td><td>6</td><td>1033</td><td>1033</td><td>1</td><td>1</td><td>&quot;0% no offer&quot;</td></tr><tr><td>7609</td><td>2018</td><td>6</td><td>1024</td><td>1024</td><td>1</td><td>1</td><td>&quot;1-15% offer&quot;</td></tr><tr><td>8064</td><td>2018</td><td>6</td><td>1024</td><td>1024</td><td>1</td><td>1</td><td>&quot;1-15% offer&quot;</td></tr><tr><td>5973</td><td>2018</td><td>3</td><td>1021</td><td>1021</td><td>1</td><td>1</td><td>&quot;0% no offer&quot;</td></tr><tr><td>10177</td><td>2018</td><td>6</td><td>1013</td><td>1013</td><td>1</td><td>1</td><td>&quot;1-15% offer&quot;</td></tr><tr><td>18821</td><td>2018</td><td>4</td><td>1013</td><td>1013</td><td>1</td><td>1</td><td>&quot;0% no offer&quot;</td></tr><tr><td>20379</td><td>2018</td><td>5</td><td>1012</td><td>1012</td><td>1</td><td>1</td><td>&quot;0% no offer&quot;</td></tr><tr><td>10268</td><td>2018</td><td>4</td><td>1008</td><td>1008</td><td>1</td><td>1</td><td>&quot;0% no offer&quot;</td></tr><tr><td>10268</td><td>2018</td><td>3</td><td>1008</td><td>1008</td><td>1</td><td>1</td><td>&quot;0% no offer&quot;</td></tr><tr><td>20847</td><td>2018</td><td>6</td><td>1001</td><td>1001</td><td>1</td><td>1</td><td>&quot;0% no offer&quot;</td></tr></tbody></table></div>"
      ],
      "text/plain": [
       "shape: (66, 8)\n",
       "┌──────────┬──────┬───────┬───────┬─────────────┬──────────────┬─────────────────────┬─────────────┐\n",
       "│ hotel_id ┆ year ┆ month ┆ price ┆ total_price ┆ is_breakfast ┆ is_premium_location ┆ offer_cat   │\n",
       "│ ---      ┆ ---  ┆ ---   ┆ ---   ┆ ---         ┆ ---          ┆ ---                 ┆ ---         │\n",
       "│ i64      ┆ i64  ┆ i64   ┆ i64   ┆ i64         ┆ i64          ┆ i64                 ┆ str         │\n",
       "╞══════════╪══════╪═══════╪═══════╪═════════════╪══════════════╪═════════════════════╪═════════════╡\n",
       "│ 14739    ┆ 2018 ┆ 3     ┆ 7674  ┆ 7674        ┆ 1            ┆ 1                   ┆ 0% no offer │\n",
       "│ 10945    ┆ 2018 ┆ 4     ┆ 5000  ┆ 5000        ┆ 1            ┆ 1                   ┆ 0% no offer │\n",
       "│ 1087     ┆ 2018 ┆ 3     ┆ 1723  ┆ 1723        ┆ 1            ┆ 1                   ┆ 0% no offer │\n",
       "│ 11432    ┆ 2018 ┆ 3     ┆ 1551  ┆ 1551        ┆ 1            ┆ 1                   ┆ 0% no offer │\n",
       "│ …        ┆ …    ┆ …     ┆ …     ┆ …           ┆ …            ┆ …                   ┆ …           │\n",
       "│ 20379    ┆ 2018 ┆ 5     ┆ 1012  ┆ 1012        ┆ 1            ┆ 1                   ┆ 0% no offer │\n",
       "│ 10268    ┆ 2018 ┆ 4     ┆ 1008  ┆ 1008        ┆ 1            ┆ 1                   ┆ 0% no offer │\n",
       "│ 10268    ┆ 2018 ┆ 3     ┆ 1008  ┆ 1008        ┆ 1            ┆ 1                   ┆ 0% no offer │\n",
       "│ 20847    ┆ 2018 ┆ 6     ┆ 1001  ┆ 1001        ┆ 1            ┆ 1                   ┆ 0% no offer │\n",
       "└──────────┴──────┴───────┴───────┴─────────────┴──────────────┴─────────────────────┴─────────────┘"
      ]
     },
     "execution_count": 16,
     "metadata": {},
     "output_type": "execute_result"
    }
   ],
   "source": [
    "df.with_columns(\n",
    "        is_breakfast = pl.Series(np.random.choice([0, 1], df_len)),\n",
    "        is_premium_location = pl.Series(np.random.choice([0, 1], df_len)),\n",
    "        total_price = pl.col('price') * pl.col('nnights')\n",
    "    ).filter(\n",
    "        (pl.col('is_breakfast') == 1) &\n",
    "        (pl.col('is_premium_location') == 1) &\n",
    "        (\n",
    "            (pl.col('total_price') >= 1000) |\n",
    "            (pl.col('price') > 1000)\n",
    "        ) &\n",
    "        (pl.col('year') == 2018) &\n",
    "        (pl.col('month').is_in([1, 2, 3, 4, 5, 6]))\n",
    "    ).select(\n",
    "        'hotel_id',\n",
    "        'year',\n",
    "        'month',\n",
    "        'price',\n",
    "        'total_price',\n",
    "        'is_breakfast',\n",
    "        'is_premium_location',\n",
    "        'offer_cat'\n",
    "    ).sort(by='total_price', descending=True).collect()"
   ]
  }
 ],
 "metadata": {
  "kernelspec": {
   "display_name": "venv",
   "language": "python",
   "name": "python3"
  },
  "language_info": {
   "codemirror_mode": {
    "name": "ipython",
    "version": 3
   },
   "file_extension": ".py",
   "mimetype": "text/x-python",
   "name": "python",
   "nbconvert_exporter": "python",
   "pygments_lexer": "ipython3",
   "version": "3.9.6"
  },
  "orig_nbformat": 4
 },
 "nbformat": 4,
 "nbformat_minor": 2
}
